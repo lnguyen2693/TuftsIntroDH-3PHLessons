{
 "cells": [
  {
   "cell_type": "code",
   "execution_count": 1,
   "id": "d90f77f0",
   "metadata": {},
   "outputs": [
    {
     "name": "stdout",
     "output_type": "stream",
     "text": [
      "message1: hello world\n",
      "message2a + message2b: hello hello hello world\n",
      "message3: howdy world\n",
      "length of message4: 11\n",
      "message5a: 6\n",
      "message7a: hello world\n",
      "message8a: HEpizzapizzaO WORpizzaD\n",
      "message9a: ello Wo\n",
      "message9b: llo Wo\n",
      "index of 'd' in 'Hello': -1\n",
      "message7a: hello world\n",
      "\"\n",
      "The program printed \"hello world\"\n",
      "hello\thello\thello\n",
      "world\n"
     ]
    }
   ],
   "source": [
    "# inital state\n",
    "message = \"Hello World\"\n",
    "\n",
    "# Concatenate\n",
    "message1 = 'hello' + ' ' + 'world'\n",
    "print(f\"message1: {message1}\")\n",
    "\n",
    "# Multiply\n",
    "message2a = 'hello ' * 3\n",
    "message2b = 'world'\n",
    "print(f\"message2a + message2b: {message2a + message2b}\")\n",
    "\n",
    "# Append\n",
    "message3 = 'howdy'\n",
    "message3 += ' '\n",
    "message3 += 'world'\n",
    "print(f\"message3: {message3}\")\n",
    "\n",
    "# Length\n",
    "message4 = 'hello' + ' ' + 'world'\n",
    "print(f\"length of message4: {len(message4)}\")\n",
    "\n",
    "# Find\n",
    "message5 = \"hello world\"\n",
    "message5a = message5.find(\"worl\")\n",
    "print(f\"message5a: {message5a}\")\n",
    "\n",
    "# Lower Case\n",
    "message7 = \"HELLO WORLD\"\n",
    "message7a = message7.lower()\n",
    "print(f\"message7a: {message7a}\")\n",
    "\n",
    "# Replace\n",
    "message8 = \"HELLO WORLD\"\n",
    "message8a = message8.replace(\"L\", \"pizza\")\n",
    "print(f\"message8a: {message8a}\") # -> HEpizzapizzaO WORpizzaD\n",
    "\n",
    "# Slice\n",
    "message9 = \"Hello World\"\n",
    "message9a = message9[1:8]\n",
    "print(f\"message9a: {message9a}\") # -> ello Wo\n",
    "\n",
    "startLoc = 2\n",
    "endLoc = 8\n",
    "message9b = message9[startLoc: endLoc]\n",
    "print(f\"message9b: {message9b}\") # -> llo Wo\n",
    "\n",
    "message9 = \"Hello World\"\n",
    "print(f\"index of 'd' in 'Hello': {message9[:5].find(\"d\")}\")\n",
    "\n",
    "# Lower\n",
    "message7 = \"HELLO WORLD\"\n",
    "message7a = message7.lower()\n",
    "print(f\"message7a: {message7a}\")\n",
    "\n",
    "# Escape Sequences\n",
    "print('\\\"') # -> \"\n",
    "print('The program printed \\\"hello world\\\"') # -> The program printed \"hello world\"\n",
    "print('hello\\thello\\thello\\nworld') # -> hello hello hello\n",
    "                                    #    world\n",
    "\n"
   ]
  }
 ],
 "metadata": {
  "kernelspec": {
   "display_name": "Python 3",
   "language": "python",
   "name": "python3"
  },
  "language_info": {
   "codemirror_mode": {
    "name": "ipython",
    "version": 3
   },
   "file_extension": ".py",
   "mimetype": "text/x-python",
   "name": "python",
   "nbconvert_exporter": "python",
   "pygments_lexer": "ipython3",
   "version": "3.12.1"
  }
 },
 "nbformat": 4,
 "nbformat_minor": 5
}
