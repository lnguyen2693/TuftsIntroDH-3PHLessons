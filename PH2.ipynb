{
 "cells": [
  {
   "cell_type": "markdown",
   "id": "1abed061",
   "metadata": {},
   "source": [
    "Following ph lesson:\n",
    "- Create `greet.py` in PH2 folder\n",
    "- Create `using-greet.py` and import greet\n",
    "- Run `using-greet.py` using command `python3 using-greet.py`\n",
    "\n",
    "expected output:\n",
    "\n",
    "hello everybody <br>\n",
    "hello programming historian"
   ]
  }
 ],
 "metadata": {
  "language_info": {
   "name": "python"
  }
 },
 "nbformat": 4,
 "nbformat_minor": 5
}
